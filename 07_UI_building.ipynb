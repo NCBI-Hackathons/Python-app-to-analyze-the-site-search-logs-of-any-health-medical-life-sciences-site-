{
 "cells": [
  {
   "cell_type": "markdown",
   "metadata": {},
   "source": [
    "# Part 7. UI building\n",
    "App to analyze web-site search logs (internal search)<br>\n",
    "**This script:** Build UI information<br>\n",
    "Authors: dan.wendling@nih.gov, <br>\n",
    "Last modified: 2018-09-09\n",
    "\n",
    "## Script contents\n",
    "\n",
    "\n",
    "## FIXMEs\n",
    "\n",
    "Things Dan wrote for Dan; modify as needed. There are more FIXMEs in context.\n",
    "\n",
    "* [ ] \n",
    "\n"
   ]
  },
  {
   "cell_type": "code",
   "execution_count": null,
   "metadata": {},
   "outputs": [],
   "source": [
    "# 1. Start-up / What to put into place, where\n",
    "# ============================================\n",
    "\n",
    "import pandas as pd\n",
    "import matplotlib.pyplot as plt\n",
    "from matplotlib.pyplot import pie, axis, show\n",
    "import numpy as np\n",
    "import os\n",
    "\n",
    "''' 100-percent content inventory from SEO Spider or other. Our allPages \n",
    "  dataframe is based on a 100-percent content inventory, so we \n",
    "  can analyze pages with zero traffic or zero searches. Also includes\n",
    "  the page title, date the page was last updated - lots of rich info.\n",
    "- Summary stats by communication package, from content inventory.'''\n",
    "contentInventoryFileName = '00 SourceFiles/page.csv'\n",
    "packageSummaryFileName = '00 SourceFiles/group.csv'\n",
    "\n",
    "''' Traffic log. This script assumes Google Analytics unsampled report;  \n",
    "references two column names: Page and Unique Pageviews. I export \n",
    "report header so I'll know later what is in the file, which means my \n",
    "import command skips the first ~6 rows.'''\n",
    "newTrafficFileName = '00 SourceFiles/Pages_Q2.csv'\n",
    "\n",
    "'''\n",
    "The following custom dictionary files need to be in place in /01/Pre-process\n",
    "\n",
    "GoldStandard.csv - Already-assigned term list, from UMLS and other sources, \n",
    "    vetted.\n",
    "NamedEntities.csv - Known entities such as person names, product names, acronyms, \n",
    "    abbreviations, org parts, etc. Will overlap with GoldStandard; however, \n",
    "    UPDATE THIS FILE and this will replicate over to GoldStandard.\n",
    "MisspelledOrForeign.csv - Short list of frequently misspelled words with HIGH\n",
    "    confidence that they can be replaced without review. Okay to include\n",
    "    foreign words.\n",
    "'''\n",
    "\n"
   ]
  },
  {
   "cell_type": "markdown",
   "metadata": {},
   "source": [
    "## 2. Plots"
   ]
  },
  {
   "cell_type": "code",
   "execution_count": null,
   "metadata": {},
   "outputs": [],
   "source": [
    "# Pie for percentage of rows assigned; https://pythonspot.com/matplotlib-pie-chart/\n",
    "totCount = len(logWithGoldStandard)\n",
    "unassigned = logWithGoldStandard['SemanticGroup'].isnull().sum()\n",
    "assigned = totCount - unassigned\n",
    "labels = ['Assigned', 'Unassigned']\n",
    "sizes = [assigned, unassigned]\n",
    "colors = ['lightskyblue', 'lightcoral']\n",
    "explode = (0.1, 0)  # explode 1st slice\n",
    "plt.pie(sizes, explode=explode, labels=labels, colors=colors,\n",
    "        autopct='%1.f%%', shadow=True, startangle=100)\n",
    "plt.axis('equal')\n",
    "plt.title(\"Status after 'GoldStandard' processing\")\n",
    "plt.show()\n",
    "\n",
    "\n",
    "# Bar of SemanticGroup categories, horizontal\n",
    "# Source: http://robertmitchellv.com/blog-bar-chart-annotations-pandas-mpl.html\n",
    "ax = logWithGoldStandard['SemanticGroup'].value_counts().plot(kind='barh', figsize=(10,6),\n",
    "                                                 color=\"slateblue\", fontsize=10);\n",
    "ax.set_alpha(0.8)\n",
    "ax.set_title(\"Categories assigned after 'GoldStandard' processing\", fontsize=14)\n",
    "ax.set_xlabel(\"Number of searches\", fontsize=9);\n",
    "# set individual bar lables using above list\n",
    "for i in ax.patches:\n",
    "    # get_width pulls left or right; get_y pushes up or down\n",
    "    ax.text(i.get_width()+.1, i.get_y()+.31, \\\n",
    "            str(round((i.get_width()), 2)), fontsize=9, color='dimgrey')\n",
    "# invert for largest on top \n",
    "ax.invert_yaxis()\n",
    "plt.gcf().subplots_adjust(left=0.3)\n"
   ]
  }
 ],
 "metadata": {
  "kernelspec": {
   "display_name": "Python 3",
   "language": "python",
   "name": "python3"
  },
  "language_info": {
   "codemirror_mode": {
    "name": "ipython",
    "version": 3
   },
   "file_extension": ".py",
   "mimetype": "text/x-python",
   "name": "python",
   "nbconvert_exporter": "python",
   "pygments_lexer": "ipython3",
   "version": "3.6.5"
  }
 },
 "nbformat": 4,
 "nbformat_minor": 2
}
